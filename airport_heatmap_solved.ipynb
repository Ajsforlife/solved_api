{
 "cells": [
  {
   "cell_type": "code",
   "execution_count": 30,
   "metadata": {},
   "outputs": [],
   "source": [
    "import gmaps\n",
    "import pandas as pd\n",
    "# Configure gmaps\n",
    "from config import gkey\n",
    "gmaps.configure(api_key=gkey)"
   ]
  },
  {
   "cell_type": "code",
   "execution_count": 31,
   "metadata": {},
   "outputs": [
    {
     "data": {
      "text/html": [
       "<div>\n",
       "<style scoped>\n",
       "    .dataframe tbody tr th:only-of-type {\n",
       "        vertical-align: middle;\n",
       "    }\n",
       "\n",
       "    .dataframe tbody tr th {\n",
       "        vertical-align: top;\n",
       "    }\n",
       "\n",
       "    .dataframe thead th {\n",
       "        text-align: right;\n",
       "    }\n",
       "</style>\n",
       "<table border=\"1\" class=\"dataframe\">\n",
       "  <thead>\n",
       "    <tr style=\"text-align: right;\">\n",
       "      <th></th>\n",
       "      <th>Unnamed: 0</th>\n",
       "      <th>City</th>\n",
       "      <th>State</th>\n",
       "      <th>Lat</th>\n",
       "      <th>Lng</th>\n",
       "      <th>Airport Name</th>\n",
       "      <th>Airport Address</th>\n",
       "      <th>Airport Rating</th>\n",
       "    </tr>\n",
       "  </thead>\n",
       "  <tbody>\n",
       "    <tr>\n",
       "      <th>0</th>\n",
       "      <td>0</td>\n",
       "      <td>New York City</td>\n",
       "      <td>New York</td>\n",
       "      <td>40.712775</td>\n",
       "      <td>-74.005973</td>\n",
       "      <td>Newark Liberty International Airport</td>\n",
       "      <td>3 Brewster Rd, Newark</td>\n",
       "      <td>3.2</td>\n",
       "    </tr>\n",
       "    <tr>\n",
       "      <th>1</th>\n",
       "      <td>1</td>\n",
       "      <td>Los Angeles</td>\n",
       "      <td>California</td>\n",
       "      <td>34.052234</td>\n",
       "      <td>-118.243685</td>\n",
       "      <td>Los Angeles International Airport</td>\n",
       "      <td>1 World Way, Los Angeles</td>\n",
       "      <td>3.5</td>\n",
       "    </tr>\n",
       "    <tr>\n",
       "      <th>2</th>\n",
       "      <td>2</td>\n",
       "      <td>Chicago</td>\n",
       "      <td>Illinois</td>\n",
       "      <td>41.878114</td>\n",
       "      <td>-87.629798</td>\n",
       "      <td>O'Hare International Airport</td>\n",
       "      <td>10000 W O'Hare Ave, Chicago</td>\n",
       "      <td>3.6</td>\n",
       "    </tr>\n",
       "    <tr>\n",
       "      <th>3</th>\n",
       "      <td>3</td>\n",
       "      <td>Houston</td>\n",
       "      <td>Texas</td>\n",
       "      <td>29.760427</td>\n",
       "      <td>-95.369803</td>\n",
       "      <td>William P. Hobby Airport</td>\n",
       "      <td>7800 Airport Blvd, Houston</td>\n",
       "      <td>4.0</td>\n",
       "    </tr>\n",
       "    <tr>\n",
       "      <th>4</th>\n",
       "      <td>4</td>\n",
       "      <td>Philadelphia</td>\n",
       "      <td>Pennsylvania</td>\n",
       "      <td>39.952584</td>\n",
       "      <td>-75.165222</td>\n",
       "      <td>Philadelphia International Airport</td>\n",
       "      <td>8000 Essington Ave, Philadelphia</td>\n",
       "      <td>3.3</td>\n",
       "    </tr>\n",
       "    <tr>\n",
       "      <th>...</th>\n",
       "      <td>...</td>\n",
       "      <td>...</td>\n",
       "      <td>...</td>\n",
       "      <td>...</td>\n",
       "      <td>...</td>\n",
       "      <td>...</td>\n",
       "      <td>...</td>\n",
       "      <td>...</td>\n",
       "    </tr>\n",
       "    <tr>\n",
       "      <th>95</th>\n",
       "      <td>95</td>\n",
       "      <td>Fremont</td>\n",
       "      <td>California</td>\n",
       "      <td>37.548270</td>\n",
       "      <td>-121.988572</td>\n",
       "      <td>San Francisco International Airport</td>\n",
       "      <td>San Francisco</td>\n",
       "      <td>4.1</td>\n",
       "    </tr>\n",
       "    <tr>\n",
       "      <th>96</th>\n",
       "      <td>96</td>\n",
       "      <td>Baton Rouge</td>\n",
       "      <td>Louisiana</td>\n",
       "      <td>30.451468</td>\n",
       "      <td>-91.187147</td>\n",
       "      <td>Baton Rouge Metropolitan Airport</td>\n",
       "      <td>9430 Jackie Cochran Dr, Baton Rouge</td>\n",
       "      <td>3.8</td>\n",
       "    </tr>\n",
       "    <tr>\n",
       "      <th>97</th>\n",
       "      <td>97</td>\n",
       "      <td>Richmond</td>\n",
       "      <td>Virginia</td>\n",
       "      <td>37.540725</td>\n",
       "      <td>-77.436048</td>\n",
       "      <td>Richmond International Airport</td>\n",
       "      <td>1 Richard E Byrd Terminal Dr, Richmond</td>\n",
       "      <td>4.1</td>\n",
       "    </tr>\n",
       "    <tr>\n",
       "      <th>98</th>\n",
       "      <td>98</td>\n",
       "      <td>Boise</td>\n",
       "      <td>Idaho</td>\n",
       "      <td>43.618710</td>\n",
       "      <td>-116.214607</td>\n",
       "      <td>Eckhart International Airport-1S1</td>\n",
       "      <td>County Rd 46, Boise</td>\n",
       "      <td>NaN</td>\n",
       "    </tr>\n",
       "    <tr>\n",
       "      <th>99</th>\n",
       "      <td>99</td>\n",
       "      <td>San Bernardino</td>\n",
       "      <td>California</td>\n",
       "      <td>34.108345</td>\n",
       "      <td>-117.289765</td>\n",
       "      <td>LA/Ontario International Airport</td>\n",
       "      <td>Ontario</td>\n",
       "      <td>4.2</td>\n",
       "    </tr>\n",
       "  </tbody>\n",
       "</table>\n",
       "<p>100 rows × 8 columns</p>\n",
       "</div>"
      ],
      "text/plain": [
       "    Unnamed: 0            City         State        Lat         Lng  \\\n",
       "0            0   New York City      New York  40.712775  -74.005973   \n",
       "1            1     Los Angeles    California  34.052234 -118.243685   \n",
       "2            2         Chicago      Illinois  41.878114  -87.629798   \n",
       "3            3         Houston         Texas  29.760427  -95.369803   \n",
       "4            4    Philadelphia  Pennsylvania  39.952584  -75.165222   \n",
       "..         ...             ...           ...        ...         ...   \n",
       "95          95         Fremont    California  37.548270 -121.988572   \n",
       "96          96     Baton Rouge     Louisiana  30.451468  -91.187147   \n",
       "97          97        Richmond      Virginia  37.540725  -77.436048   \n",
       "98          98           Boise         Idaho  43.618710 -116.214607   \n",
       "99          99  San Bernardino    California  34.108345 -117.289765   \n",
       "\n",
       "                            Airport Name  \\\n",
       "0   Newark Liberty International Airport   \n",
       "1      Los Angeles International Airport   \n",
       "2           O'Hare International Airport   \n",
       "3               William P. Hobby Airport   \n",
       "4     Philadelphia International Airport   \n",
       "..                                   ...   \n",
       "95   San Francisco International Airport   \n",
       "96      Baton Rouge Metropolitan Airport   \n",
       "97        Richmond International Airport   \n",
       "98     Eckhart International Airport-1S1   \n",
       "99      LA/Ontario International Airport   \n",
       "\n",
       "                           Airport Address  Airport Rating  \n",
       "0                    3 Brewster Rd, Newark             3.2  \n",
       "1                 1 World Way, Los Angeles             3.5  \n",
       "2              10000 W O'Hare Ave, Chicago             3.6  \n",
       "3               7800 Airport Blvd, Houston             4.0  \n",
       "4         8000 Essington Ave, Philadelphia             3.3  \n",
       "..                                     ...             ...  \n",
       "95                           San Francisco             4.1  \n",
       "96     9430 Jackie Cochran Dr, Baton Rouge             3.8  \n",
       "97  1 Richard E Byrd Terminal Dr, Richmond             4.1  \n",
       "98                     County Rd 46, Boise             NaN  \n",
       "99                                 Ontario             4.2  \n",
       "\n",
       "[100 rows x 8 columns]"
      ]
     },
     "execution_count": 31,
     "metadata": {},
     "output_type": "execute_result"
    }
   ],
   "source": [
    "# Create aiport dataframe\n",
    "airport_df = pd.read_csv(\"Resources/Airport_Output.csv\")\n",
    "airport_data_df = pd.DataFrame(airport_df)\n",
    "airport_data_df"
   ]
  },
  {
   "cell_type": "code",
   "execution_count": 32,
   "metadata": {},
   "outputs": [
    {
     "data": {
      "text/plain": [
       "Unnamed: 0           int64\n",
       "City                object\n",
       "State               object\n",
       "Lat                float64\n",
       "Lng                float64\n",
       "Airport Name        object\n",
       "Airport Address     object\n",
       "Airport Rating     float32\n",
       "dtype: object"
      ]
     },
     "execution_count": 32,
     "metadata": {},
     "output_type": "execute_result"
    }
   ],
   "source": [
    "airport_rating = airport_data_df[\"Airport Rating\"]\n",
    "ratings = []\n",
    "for rating in ratings:\n",
    "    ratings.append(max(rating,0))\n",
    "# Store latitude and longitude in locations\n",
    "locations = airport_data_df[[\"Lat\",\"Lng\"]]\n",
    "airport_ratings = airport_data_df[\"Airport Rating\"]\n",
    "# Filla NaN values and convert to float\n",
    "new_airport_data_df = airport_data_df.fillna(0)\n",
    "new_airport_data_df['Airport Rating'] = pd.to_numeric(new_airport_data_df['Airport Rating'], downcast='float')\n",
    "new_airport_data_df.dtypes"
   ]
  },
  {
   "cell_type": "code",
   "execution_count": 53,
   "metadata": {},
   "outputs": [
    {
     "data": {
      "application/vnd.jupyter.widget-view+json": {
       "model_id": "0e52ed74a4a74a0fa1057ae82ad89b59",
       "version_major": 2,
       "version_minor": 0
      },
      "text/plain": [
       "Figure(layout=FigureLayout(height='420px'))"
      ]
     },
     "metadata": {},
     "output_type": "display_data"
    }
   ],
   "source": [
    "# Plot Heatmap\n",
    "# Assign the figure variable.\n",
    "fig = gmaps.figure(center=(30.0,31.0),zoom_level=1.25)\n",
    "#assign the heatmap variable.\n",
    "heat_layer = gmaps.heatmap_layer(locations, weights=airport_ratings, dissipating=False, max_intensity=300,point_radius=4)\n",
    "#add the heatmap layer.\n",
    "fig.add_layer(heat_layer)\n",
    "#call the figure to plot the data\n",
    "fig"
   ]
  },
  {
   "cell_type": "code",
   "execution_count": 52,
   "metadata": {},
   "outputs": [
    {
     "data": {
      "application/vnd.jupyter.widget-view+json": {
       "model_id": "bd49d410e2544ac5a176eb31aa646cbd",
       "version_major": 2,
       "version_minor": 0
      },
      "text/plain": [
       "Figure(layout=FigureLayout(height='420px'))"
      ]
     },
     "metadata": {},
     "output_type": "display_data"
    }
   ],
   "source": [
    "# Plot Heatmap\n",
    "# Assign the figure variable.\n",
    "fig = gmaps.figure(center=(30.0,31.0),zoom_level=1.25,map_type=\"HYBRID\")\n",
    "#assign the heatmap variable.\n",
    "heat_layer = gmaps.heatmap_layer(locations, weights=airport_ratings, dissipating=False, max_intensity=10,point_radius=1)\n",
    "#add the heatmap layer.\n",
    "fig.add_layer(heat_layer)\n",
    "#call the figure to plot the data\n",
    "fig"
   ]
  },
  {
   "cell_type": "code",
   "execution_count": 54,
   "metadata": {},
   "outputs": [
    {
     "data": {
      "application/vnd.jupyter.widget-view+json": {
       "model_id": "37538c846fc747189d2194ecf130af72",
       "version_major": 2,
       "version_minor": 0
      },
      "text/plain": [
       "Figure(layout=FigureLayout(height='420px'))"
      ]
     },
     "metadata": {},
     "output_type": "display_data"
    }
   ],
   "source": [
    "# Plot Heatmap\n",
    "# Assign the figure variable.\n",
    "fig = gmaps.figure(center=(30.0,31.0),zoom_level=1.25,map_type=\"TERRAIN\")\n",
    "#assign the heatmap variable.\n",
    "heat_layer = gmaps.heatmap_layer(locations, weights=airport_ratings, dissipating=False, max_intensity=300,point_radius=4)\n",
    "#add the heatmap layer.\n",
    "fig.add_layer(heat_layer)\n",
    "#call the figure to plot the data\n",
    "fig"
   ]
  },
  {
   "cell_type": "code",
   "execution_count": null,
   "metadata": {},
   "outputs": [],
   "source": []
  }
 ],
 "metadata": {
  "kernelspec": {
   "display_name": "pythondata",
   "language": "python",
   "name": "pythondata"
  },
  "language_info": {
   "codemirror_mode": {
    "name": "ipython",
    "version": 3
   },
   "file_extension": ".py",
   "mimetype": "text/x-python",
   "name": "python",
   "nbconvert_exporter": "python",
   "pygments_lexer": "ipython3",
   "version": "3.7.13"
  }
 },
 "nbformat": 4,
 "nbformat_minor": 2
}
