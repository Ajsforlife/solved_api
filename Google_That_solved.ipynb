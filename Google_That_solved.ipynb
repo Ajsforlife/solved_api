{
 "cells": [
  {
   "cell_type": "code",
   "execution_count": 1,
   "metadata": {},
   "outputs": [],
   "source": [
    "# Create code to answer each of the following questions.\n",
    "# Hint: You will need multiple target URLs and multiple API requests.\n",
    "\n",
    "# Dependencies\n",
    "import requests\n",
    "import json\n",
    "\n",
    "# Retrieve Google API key from config.py\n",
    "from config import gkey\n"
   ]
  },
  {
   "cell_type": "code",
   "execution_count": 22,
   "metadata": {},
   "outputs": [
    {
     "data": {
      "text/plain": [
       "{'candidates': [{'formatted_address': 'Seattle, WA, USA',\n",
       "   'geometry': {'location': {'lat': 47.6062095, 'lng': -122.3320708},\n",
       "    'viewport': {'northeast': {'lat': 47.734145, 'lng': -122.2244331},\n",
       "     'southwest': {'lat': 47.4919119, 'lng': -122.4596959}}},\n",
       "   'name': 'Seattle'}],\n",
       " 'status': 'OK'}"
      ]
     },
     "execution_count": 22,
     "metadata": {},
     "output_type": "execute_result"
    }
   ],
   "source": [
    "# 1. What are the geocoordinates (latitude/longitude) of Seattle, Washington?\n",
    "seattle_url = \"https://maps.googleapis.com/maps/api/place/findplacefromtext/json?fields=formatted_address%2Cname%2Crating%2Copening_hours%2Cgeometry&input=Seattle%20Washington&inputtype=textquery&key=\" + gkey\n",
    "response = requests.get(seattle_url).json()\n",
    "response"
   ]
  },
  {
   "cell_type": "code",
   "execution_count": 57,
   "metadata": {},
   "outputs": [
    {
     "data": {
      "text/plain": [
       "{'lat': 38.8976763, 'lng': -77.0365298}"
      ]
     },
     "execution_count": 57,
     "metadata": {},
     "output_type": "execute_result"
    }
   ],
   "source": [
    "# 2. What are the geocoordinates (latitude/longitude) of The White House?\n",
    "white_house_url = \"https://maps.googleapis.com/maps/api/place/findplacefromtext/json?fields=formatted_address%2Cname%2Crating%2Copening_hours%2Cgeometry&input=White%20House&inputtype=textquery&key=\" + gkey\n",
    "response = requests.get(white_house_url).json()\n",
    "response[\"candidates\"][0][\"geometry\"][\"location\"]"
   ]
  },
  {
   "cell_type": "code",
   "execution_count": 80,
   "metadata": {},
   "outputs": [
    {
     "data": {
      "text/plain": [
       "{'candidates': [],\n",
       " 'error_message': \"Error while parsing 'fields' parameter: Unexpected character ' '. \",\n",
       " 'status': 'INVALID_REQUEST'}"
      ]
     },
     "execution_count": 80,
     "metadata": {},
     "output_type": "execute_result"
    }
   ],
   "source": [
    "# 3. Find the name and address of a bike store in Seattle, Washington.\n",
    "bike_url = \"https://maps.googleapis.com/maps/api/place/findplacefromtext/json?fields=formatted_address%20Seattle%2Crating%2Copening_hours%2Cgeometry&input=Bike%20Store%20Seattle%20Washington&inputtype=textquery&key=\" + gkey\n",
    "response = requests.get(bike_url).json()\n",
    "response\n",
    "#    Hint: See https://developers.google.com/places/web-service/supported_types"
   ]
  },
  {
   "cell_type": "code",
   "execution_count": 67,
   "metadata": {},
   "outputs": [
    {
     "data": {
      "text/plain": [
       "'2151 6th Ave, Seattle, WA 98121, United States'"
      ]
     },
     "execution_count": 67,
     "metadata": {},
     "output_type": "execute_result"
    }
   ],
   "source": [
    "response[\"candidates\"][0][\"formatted_address\"]"
   ]
  },
  {
   "cell_type": "code",
   "execution_count": 91,
   "metadata": {},
   "outputs": [
    {
     "data": {
      "text/plain": [
       "{'candidates': [{'formatted_address': '7690 N Academy Blvd, Colorado Springs, CO 80920, United States',\n",
       "   'geometry': {'location': {'lat': 38.9424388, 'lng': -104.8021446},\n",
       "    'viewport': {'northeast': {'lat': 38.94387687989272,\n",
       "      'lng': -104.8006603201073},\n",
       "     'southwest': {'lat': 38.94117722010728, 'lng': -104.8033599798927}}},\n",
       "   'name': 'Party City',\n",
       "   'opening_hours': {'open_now': True},\n",
       "   'rating': 3.9}],\n",
       " 'status': 'OK'}"
      ]
     },
     "execution_count": 91,
     "metadata": {},
     "output_type": "execute_result"
    }
   ],
   "source": [
    "# 4. Find a balloon store near the White House\n",
    "lat = 38.8976763\n",
    "lng = -77.0365298\n",
    "target_search = \"balloon store\"\n",
    "params = { \"location\": f\"{lat},{lng}\",\n",
    "         \n",
    "          \"key\": gkey}\n",
    "balloon_url =\"https://maps.googleapis.com/maps/api/place/findplacefromtext/json?\n",
    "response = requests.get(balloon_url,params=params).json()\n",
    "response"
   ]
  },
  {
   "cell_type": "code",
   "execution_count": 33,
   "metadata": {},
   "outputs": [
    {
     "data": {
      "text/plain": [
       "{'candidates': [{'formatted_address': '9348 Grand Cordera Pkwy STE 100, Colorado Springs, CO 80924, United States',\n",
       "   'geometry': {'location': {'lat': 38.967027, 'lng': -104.7387916},\n",
       "    'viewport': {'northeast': {'lat': 38.96850782989272,\n",
       "      'lng': -104.7373658201073},\n",
       "     'southwest': {'lat': 38.96580817010728, 'lng': -104.7400654798927}}},\n",
       "   'name': 'Apple Grove Dental and Orthodontics',\n",
       "   'opening_hours': {'open_now': True},\n",
       "   'rating': 4.9}],\n",
       " 'status': 'OK'}"
      ]
     },
     "execution_count": 33,
     "metadata": {},
     "output_type": "execute_result"
    }
   ],
   "source": [
    "# 5. Find the nearest dentist to your house.\n",
    "dentist_url =\"https://maps.googleapis.com/maps/api/place/findplacefromtext/json?fields=formatted_address%2Cname%2Crating%2Copening_hours%2Cgeometry&input=dentist&inputtype=textquery&locationbias=House&key=\" + gkey\n",
    "response = requests.get(dentist_url).json()\n",
    "response\n",
    "#    Hint: Use Google Maps to find your latitude and Google Places to find the\n",
    "#    dentist. You will also need the rankby property."
   ]
  },
  {
   "cell_type": "code",
   "execution_count": 78,
   "metadata": {},
   "outputs": [
    {
     "data": {
      "text/plain": [
       "<bound method Response.json of <Response [200]>>"
      ]
     },
     "execution_count": 78,
     "metadata": {},
     "output_type": "execute_result"
    }
   ],
   "source": [
    "seattle_url= \"https://maps.googleapis.com/maps/api/geocode/json?address=Seattle&key=\" + gkey\n",
    "response = requests.get(seattle_url).json\n",
    "response"
   ]
  },
  {
   "cell_type": "code",
   "execution_count": null,
   "metadata": {},
   "outputs": [],
   "source": [
    "\n",
    "params = {\n",
    "    \"location\": \"38.96580817010728,-104.7387916\",\n",
    "    \"rankby\": \"distance\",\n",
    "    \"type\": \"restaurant\",\n",
    "    \"key\": gkey\n",
    "}\n",
    "\n",
    "for index, row in types_df.iterrows:\n",
    "    \n",
    "    restr_type = row[\"ethnicity\"]\n",
    "    \n",
    "    params[\"keyword\"] = restr_type\n",
    "    print(f\"Retreining results for index {index}: {restr_type}.\")\n",
    "    response = requests.get(base_url, params=params).json()\n",
    "    \n",
    "    results = response[\"results\"]\n",
    "          \n",
    "    try: print(f\"Closest {restr_type} restaurant is {results[0][\"name\"]}.\")\n",
    "        \n",
    "        types_df.loc[index, \"name\"] = results[0][\"name\"]\n",
    "        types_df.loc[index, \"addresss\"] = results[0][\"vicinity\"]\n",
    "        types_df.loc[index, \"price_level\"] = results[0][\"price_level\"]\n",
    "        types_df.loc[index, \"rating\"] = results[0][\"rating\"]\n",
    "    except(keyerror, indexerror):\n",
    "        print(\"missing field/result...skipping.\")\n",
    "    \n",
    "    \n",
    "    "
   ]
  }
 ],
 "metadata": {
  "kernelspec": {
   "display_name": "pythondata",
   "language": "python",
   "name": "pythondata"
  },
  "language_info": {
   "codemirror_mode": {
    "name": "ipython",
    "version": 3
   },
   "file_extension": ".py",
   "mimetype": "text/x-python",
   "name": "python",
   "nbconvert_exporter": "python",
   "pygments_lexer": "ipython3",
   "version": "3.7.13"
  }
 },
 "nbformat": 4,
 "nbformat_minor": 2
}
